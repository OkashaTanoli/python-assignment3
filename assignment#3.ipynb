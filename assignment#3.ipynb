{
 "cells": [
  {
   "cell_type": "code",
   "execution_count": 3,
   "id": "f3c709be",
   "metadata": {},
   "outputs": [
    {
     "name": "stdout",
     "output_type": "stream",
     "text": [
      "Twinkle, twinkle, little star,\n",
      "         How I wonder what you are!\n",
      "               Up above the world so high,\n",
      "               Like a diamond in the sky.\n",
      "Twinkle, twinkle, little star,\n",
      "         How I wonder what you are!\n"
     ]
    }
   ],
   "source": [
    "# Question No 1 : Write a Python program to print the following string in a specific format (see the output).\n",
    "# Twinkle, twinkle, little star,\n",
    "#          How I wonder what you are!\n",
    "#                Up above the world so high,\n",
    "#                Like a diamond in the sky.\n",
    "# Twinkle, twinkle, little star,\n",
    "#          How I wonder what you are\n",
    "\n",
    "\n",
    "print('Twinkle, twinkle, little star,');\n",
    "print('         How I wonder what you are!');\n",
    "print('               Up above the world so high,');\n",
    "print('               Like a diamond in the sky.');\n",
    "print('Twinkle, twinkle, little star,')\n",
    "print('         How I wonder what you are!')"
   ]
  },
  {
   "cell_type": "code",
   "execution_count": 8,
   "id": "5aef274d",
   "metadata": {},
   "outputs": [
    {
     "name": "stdout",
     "output_type": "stream",
     "text": [
      "Python Version: 3.8.8\n"
     ]
    }
   ],
   "source": [
    "#Question No 2: Write a Python program to get the Python version you are using\n",
    "\n",
    "import platform;\n",
    "print(\"Python Version: \" + platform.python_version())\n"
   ]
  },
  {
   "cell_type": "code",
   "execution_count": 50,
   "id": "50e0439b",
   "metadata": {},
   "outputs": [
    {
     "name": "stdout",
     "output_type": "stream",
     "text": [
      "Current Time: 02 : 43 : 17\n",
      "Current Date: 24 / Oct / 21\n"
     ]
    }
   ],
   "source": [
    "#Question No 3: Write a Python program to display the current date and time.\n",
    "\n",
    "import datetime\n",
    "\n",
    "now = datetime.datetime.now()\n",
    "\n",
    "current_time = now.strftime(\"%H : %M : %S\")\n",
    "current_date = now.strftime(\"%d / %h / %y\")\n",
    "print(\"Current Time: \" + current_time + '\\nCurrent Date: ' + current_date)"
   ]
  },
  {
   "cell_type": "code",
   "execution_count": 2,
   "id": "57a1ae65",
   "metadata": {},
   "outputs": [
    {
     "name": "stdout",
     "output_type": "stream",
     "text": [
      "Enter Radius to calculate the area = 2\n",
      "12.566370614359172\n"
     ]
    }
   ],
   "source": [
    "#Question No 4 Write a Python program which accepts the radius of a circle from the user and compute the area.\n",
    "\n",
    "import math;\n",
    "radius = int(input('Enter Radius to calculate the area = '));\n",
    "area = math.pi * (radius**2)\n",
    "print(area)\n"
   ]
  },
  {
   "cell_type": "code",
   "execution_count": 3,
   "id": "7dbba23d",
   "metadata": {},
   "outputs": [
    {
     "name": "stdout",
     "output_type": "stream",
     "text": [
      "Enter First Name : okasha\n",
      "Enter Last Name : aijaz\n",
      "aijaz okasha\n"
     ]
    }
   ],
   "source": [
    "#Question No 5: Write a Python program which accepts the user's first and last name and print them in\n",
    "#reverse order with a space between them.\n",
    "\n",
    "\n",
    "first = input('Enter First Name : ');\n",
    "last = input('Enter Last Name : ');\n",
    "fullName = last + \" \" + first;\n",
    "print(fullName)\n"
   ]
  },
  {
   "cell_type": "code",
   "execution_count": 4,
   "id": "dc9cbb24",
   "metadata": {},
   "outputs": [
    {
     "name": "stdout",
     "output_type": "stream",
     "text": [
      "Enter First Number: 12\n",
      "Enter Second Number: 12\n",
      "24\n"
     ]
    }
   ],
   "source": [
    "#Question No 6: Write a python program which takes two inputs from user and print them addition\n",
    "\n",
    "a = int(input('Enter First Number: '));\n",
    "b = int(input('Enter Second Number: '));\n",
    "c = a + b;\n",
    "print(c)"
   ]
  },
  {
   "cell_type": "code",
   "execution_count": 6,
   "id": "88a029e5",
   "metadata": {},
   "outputs": [
    {
     "name": "stdout",
     "output_type": "stream",
     "text": [
      "Enter maths marks : 78\n",
      "Enter english marks : 98\n",
      "Enter islamiat marks : 78\n",
      "Enter computer marks : 98\n",
      "Enter urdu marks : 98\n",
      "Total marks: 500\n",
      "Total marks obtained: 450\n",
      "Your Percentage is: 90.0 %\n",
      "Grade : A+\n"
     ]
    }
   ],
   "source": [
    "#Question No 7: Write a program which takes 5 inputs from user for different subject’s marks, total it\n",
    "#and generate mark sheet using grades ?\n",
    "\n",
    "\n",
    "math = int(input('Enter maths marks : '));\n",
    "eng = int(input('Enter english marks : '));\n",
    "isl = int(input('Enter islamiat marks : '));\n",
    "comp = int(input('Enter computer marks : '));\n",
    "urdu = int(input('Enter urdu marks : '));\n",
    "total_marks = 500;\n",
    "marks_obt = math + eng + isl + comp + urdu;\n",
    "percentage = marks_obt * 100 / total_marks;\n",
    "print(\"Total marks: \" + str(total_marks));\n",
    "print(\"Total marks obtained: \" + str(marks_obt));\n",
    "print(\"Your Percentage is: \" + str(percentage) + ' %');\n",
    "\n",
    "if (percentage <= 100 and percentage >= 80):\n",
    "    print(\"Grade : A+\");\n",
    "elif(percentage <= 80 and percentage >= 70):\n",
    "    print(\"Grade : A\");\n",
    "elif(percentage <= 70 and percentage >= 60):\n",
    "    print(\"Grade : B\");\n",
    "elif(percentage <= 60 and percentage >= 50):\n",
    "    print(\"Grade : C\");\n",
    "elif(percentage <= 50 and percentage >= 40):\n",
    "    print(\"Grade : D\");\n",
    "elif(percentage <= 40 and percentage >= 33):\n",
    "    print(\"Grade : E\");\n",
    "elif(percentage <= 33 and percentage >= 0):\n",
    "    print(\"You are Fail\");\n",
    "else:\n",
    "    print(\"Percentage is not correct\")"
   ]
  },
  {
   "cell_type": "code",
   "execution_count": 9,
   "id": "95477e58",
   "metadata": {},
   "outputs": [
    {
     "name": "stdout",
     "output_type": "stream",
     "text": [
      "Enter number to check even or odd : 78\n",
      "The number is Even\n"
     ]
    }
   ],
   "source": [
    "#Question No 8: Write a program which take input from user and identify that the given number is even or odd?\n",
    "\n",
    "num = int(input ('Enter number to check even or odd : '));\n",
    "if num%2 == 0:\n",
    "    print('The number is Even');\n",
    "else:\n",
    "    print('The number is Odd')\n",
    "    "
   ]
  },
  {
   "cell_type": "code",
   "execution_count": 1,
   "id": "615d23f2",
   "metadata": {},
   "outputs": [
    {
     "name": "stdout",
     "output_type": "stream",
     "text": [
      "6\n"
     ]
    }
   ],
   "source": [
    "#Question No 9: Write a program which print the length of the list?\n",
    "\n",
    "lengthList = ['okasha','aijaz',78,True,10.4,'num'];\n",
    "print(len(lengthList))\n",
    "\n",
    "    "
   ]
  },
  {
   "cell_type": "code",
   "execution_count": 3,
   "id": "7c091a40",
   "metadata": {},
   "outputs": [
    {
     "name": "stdout",
     "output_type": "stream",
     "text": [
      "293\n"
     ]
    }
   ],
   "source": [
    "#Question No 10: 10.Write a Python program to sum all the numeric items in a list?\n",
    "\n",
    "all = [10,20,46,78,39,90,10];\n",
    "sum = 0;\n",
    "for i in all:\n",
    "    sum += i;\n",
    "print(sum)\n"
   ]
  },
  {
   "cell_type": "code",
   "execution_count": 4,
   "id": "a743c5ad",
   "metadata": {},
   "outputs": [
    {
     "name": "stdout",
     "output_type": "stream",
     "text": [
      "76\n"
     ]
    }
   ],
   "source": [
    "#Question No 11: Write a Python program to get the largest number from a numeric list.\n",
    "\n",
    "largest = [20,56,65,34,7,6,43,4,76,59];\n",
    "print(max(largest))"
   ]
  },
  {
   "cell_type": "code",
   "execution_count": 6,
   "id": "dd5ecf4c",
   "metadata": {},
   "outputs": [
    {
     "name": "stdout",
     "output_type": "stream",
     "text": [
      "2\n",
      "4\n",
      "1\n",
      "1\n",
      "0\n",
      "3.4\n"
     ]
    }
   ],
   "source": [
    "#Question No 12: Take a list, say for example this one:\n",
    "#a = [1, 1, 2, 3, 5, 8, 13, 21, 34, 55, 89]\n",
    "#Write a program that prints out all the elements of the list that are less than 5.\n",
    "\n",
    "a = [2, 4, 1, 33, 43, 1, 0, 23, 3.4, 33, 34];\n",
    "for x in a:\n",
    "    if x < 5:\n",
    "        print(x)\n"
   ]
  },
  {
   "cell_type": "code",
   "execution_count": null,
   "id": "3a9c0524",
   "metadata": {},
   "outputs": [],
   "source": []
  }
 ],
 "metadata": {
  "kernelspec": {
   "display_name": "Python 3",
   "language": "python",
   "name": "python3"
  },
  "language_info": {
   "codemirror_mode": {
    "name": "ipython",
    "version": 3
   },
   "file_extension": ".py",
   "mimetype": "text/x-python",
   "name": "python",
   "nbconvert_exporter": "python",
   "pygments_lexer": "ipython3",
   "version": "3.8.8"
  }
 },
 "nbformat": 4,
 "nbformat_minor": 5
}
